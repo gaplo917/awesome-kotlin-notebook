{
 "cells": [
  {
   "metadata": {},
   "cell_type": "markdown",
   "source": [
    "# PostgreSQL query example using vanilla driver\n",
    " This notebook implements a tranformation of `ResultSet` to `krangl` dataframe for data visualization.\n",
    "\n",
    "If you use local postgres database, you can run the following container\n",
    "```bash\n",
    "docker compose up -d postgres\n",
    "```"
   ]
  },
  {
   "metadata": {},
   "cell_type": "markdown",
   "source": "## Install dependencies"
  },
  {
   "metadata": {
    "ExecuteTime": {
     "end_time": "2025-01-12T14:25:57.159370Z",
     "start_time": "2025-01-12T14:25:57.120714Z"
    }
   },
   "cell_type": "code",
   "source": [
    "// load version variables\n",
    "%use @file[resources/version.json](currentDir=\".\")"
   ],
   "outputs": [],
   "execution_count": 17
  },
  {
   "metadata": {
    "collapsed": true,
    "ExecuteTime": {
     "end_time": "2025-01-12T14:25:57.269647Z",
     "start_time": "2025-01-12T14:25:57.162512Z"
    }
   },
   "cell_type": "code",
   "source": [
    "USE {\n",
    "    repositories {\n",
    "        mavenCentral()\n",
    "    }\n",
    "    dependencies {\n",
    "        implementation(\"org.postgresql:postgresql:$postgresVersion\")\n",
    "        implementation(\"com.github.holgerbrandl:krangl:$kranglVersion\")\n",
    "    }\n",
    "}\n",
    "\n",
    "// list the library, if the library is not exist, restart kernel\n",
    "notebook.currentClasspath.joinToString(\"\\n\")"
   ],
   "outputs": [
    {
     "data": {
      "text/plain": [
       "/Users/gaplo917/Library/Caches/JetBrains/IntelliJIdea2024.3/kotlinNotebook/kotlin-notebook-standalone.eb20de96/kernels/0.12.0-356/kotlin-jupyter-script-classpath-shadowed-zip_extracted/kotlin-stdlib-1.9.23.jar\n",
       "/Users/gaplo917/Library/Caches/JetBrains/IntelliJIdea2024.3/kotlinNotebook/kotlin-notebook-standalone.eb20de96/kernels/0.12.0-356/kotlin-jupyter-script-classpath-shadowed-zip_extracted/kotlin-reflect-1.9.23.jar\n",
       "/Users/gaplo917/Library/Caches/JetBrains/IntelliJIdea2024.3/kotlinNotebook/kotlin-notebook-standalone.eb20de96/kernels/0.12.0-356/kotlin-jupyter-script-classpath-shadowed-zip_extracted/kotlinx-serialization-core-jvm-1.6.3.jar\n",
       "/Users/gaplo917/Library/Caches/JetBrains/IntelliJIdea2024.3/kotlinNotebook/kotlin-notebook-standalone.eb20de96/kernels/0.12.0-356/kotlin-jupyter-script-classpath-shadowed-zip_extracted/annotations-13.0.jar\n",
       "/Users/gaplo917/Library/Caches/JetBrains/IntelliJIdea2024.3/kotlinNotebook/kotlin-notebook-standalone.eb20de96/kernels/0.12.0-356/kotlin-jupyter-script-classpath-shadowed-zip_extracted/slf4j-api-2.0.12.jar\n",
       "/Users/gaplo917/Library/Caches/JetBrains/IntelliJIdea2024.3/kotlinNotebook/kotlin-notebook-standalone.eb20de96/kernels/0.12.0-356/kotlin-jupyter-script-classpath-shadowed-zip_extracted/api-0.12.0-356.jar\n",
       "/Users/gaplo917/Library/Caches/JetBrains/IntelliJIdea2024.3/kotlinNotebook/kotlin-notebook-standalone.eb20de96/kernels/0.12.0-356/kotlin-jupyter-script-classpath-shadowed-zip_extracted/kotlinx-serialization-json-jvm-1.6.3.jar\n",
       "/Users/gaplo917/Library/Caches/JetBrains/IntelliJIdea2024.3/kotlinNotebook/kotlin-notebook-standalone.eb20de96/kernels/0.12.0-356/kotlin-jupyter-script-classpath-shadowed-zip_extracted/kotlin-script-runtime-1.9.23.jar\n",
       "/Users/gaplo917/Library/Caches/JetBrains/IntelliJIdea2024.3/kotlinNotebook/kotlin-notebook-standalone.eb20de96/kernels/0.12.0-356/kotlin-jupyter-script-classpath-shadowed-zip_extracted/lib-0.12.0-356.jar\n",
       "/Users/gaplo917/.m2/repository/com/github/holgerbrandl/krangl/0.18.4/krangl-0.18.4.jar\n",
       "/Users/gaplo917/.m2/repository/org/apache/commons/commons-csv/1.6/commons-csv-1.6.jar\n",
       "/Users/gaplo917/.m2/repository/org/apache/poi/poi-ooxml/5.2.2/poi-ooxml-5.2.2.jar\n",
       "/Users/gaplo917/.m2/repository/org/apache/poi/poi/5.2.2/poi-5.2.2.jar\n",
       "/Users/gaplo917/.m2/repository/commons-codec/commons-codec/1.15/commons-codec-1.15.jar\n",
       "/Users/gaplo917/.m2/repository/org/apache/commons/commons-math3/3.6.1/commons-math3-3.6.1.jar\n",
       "/Users/gaplo917/.m2/repository/com/zaxxer/SparseBitSet/1.2/SparseBitSet-1.2.jar\n",
       "/Users/gaplo917/.m2/repository/org/apache/poi/poi-ooxml-lite/5.2.2/poi-ooxml-lite-5.2.2.jar\n",
       "/Users/gaplo917/.m2/repository/org/apache/xmlbeans/xmlbeans/5.0.3/xmlbeans-5.0.3.jar\n",
       "/Users/gaplo917/.m2/repository/org/apache/commons/commons-compress/1.21/commons-compress-1.21.jar\n",
       "/Users/gaplo917/.m2/repository/commons-io/commons-io/2.11.0/commons-io-2.11.0.jar\n",
       "/Users/gaplo917/.m2/repository/com/github/virtuald/curvesapi/1.07/curvesapi-1.07.jar\n",
       "/Users/gaplo917/.m2/repository/org/apache/logging/log4j/log4j-api/2.17.2/log4j-api-2.17.2.jar\n",
       "/Users/gaplo917/.m2/repository/org/apache/commons/commons-collections4/4.4/commons-collections4-4.4.jar\n",
       "/Users/gaplo917/.m2/repository/com/beust/klaxon/5.6/klaxon-5.6.jar\n",
       "/Users/gaplo917/.m2/repository/org/jetbrains/lets-plot/lets-plot-kotlin-jvm/4.0.0/lets-plot-kotlin-jvm-4.0.0.jar\n",
       "/Users/gaplo917/.m2/repository/org/jetbrains/lets-plot/lets-plot-common/2.4.0/lets-plot-common-2.4.0.jar\n",
       "/Users/gaplo917/.m2/repository/io/github/microutils/kotlin-logging/2.0.5/kotlin-logging-2.0.5.jar\n",
       "/Users/gaplo917/.m2/repository/org/jetbrains/kotlin/kotlin-stdlib-jdk8/1.6.21/kotlin-stdlib-jdk8-1.6.21.jar\n",
       "/Users/gaplo917/.m2/repository/org/jetbrains/kotlin/kotlin-stdlib-jdk7/1.6.21/kotlin-stdlib-jdk7-1.6.21.jar\n",
       "/Users/gaplo917/.m2/repository/org/jetbrains/lets-plot/base-portable-jvm/2.4.0/base-portable-jvm-2.4.0.jar\n",
       "/Users/gaplo917/.m2/repository/org/jetbrains/lets-plot/plot-base-portable-jvm/2.4.0/plot-base-portable-jvm-2.4.0.jar\n",
       "/Users/gaplo917/.m2/repository/org/jetbrains/lets-plot/vis-svg-portable-jvm/2.4.0/vis-svg-portable-jvm-2.4.0.jar\n",
       "/Users/gaplo917/.m2/repository/org/jetbrains/lets-plot/plot-common-portable-jvm/2.4.0/plot-common-portable-jvm-2.4.0.jar\n",
       "/Users/gaplo917/.m2/repository/org/jetbrains/lets-plot/plot-builder-portable-jvm/2.4.0/plot-builder-portable-jvm-2.4.0.jar\n",
       "/Users/gaplo917/.m2/repository/org/jetbrains/lets-plot/plot-config-portable-jvm/2.4.0/plot-config-portable-jvm-2.4.0.jar\n",
       "/Users/gaplo917/.m2/repository/org/jetbrains/kotlin/kotlin-stdlib-common/1.6.21/kotlin-stdlib-common-1.6.21.jar\n",
       "/Users/gaplo917/.m2/repository/io/github/microutils/kotlin-logging-jvm/2.0.5/kotlin-logging-jvm-2.0.5.jar\n",
       "/Users/gaplo917/.m2/repository/org/slf4j/slf4j-api/1.7.29/slf4j-api-1.7.29.jar\n",
       "/Users/gaplo917/.m2/repository/org/jetbrains/kotlin/kotlin-stdlib/1.7.10/kotlin-stdlib-1.7.10.jar\n",
       "/Users/gaplo917/.m2/repository/org/jetbrains/annotations/13.0/annotations-13.0.jar\n",
       "/Users/gaplo917/.m2/repository/org/jetbrains/kotlin/kotlin-reflect/1.7.10/kotlin-reflect-1.7.10.jar\n",
       "/Users/gaplo917/.m2/repository/org/postgresql/postgresql/42.7.4/postgresql-42.7.4.jar\n",
       "/Users/gaplo917/.m2/repository/org/checkerframework/checker-qual/3.42.0/checker-qual-3.42.0.jar"
      ]
     },
     "execution_count": 18,
     "metadata": {},
     "output_type": "execute_result"
    }
   ],
   "execution_count": 18
  },
  {
   "metadata": {},
   "cell_type": "markdown",
   "source": [
    "## Load PostgreSQL connection variables\n",
    "Rename `postgres.example.json` to `postgres.secret.json`. This will create `uri`, `username`, `password` variables."
   ]
  },
  {
   "metadata": {
    "ExecuteTime": {
     "end_time": "2025-01-12T14:25:57.379939Z",
     "start_time": "2025-01-12T14:25:57.326158Z"
    }
   },
   "cell_type": "code",
   "source": [
    "// Load environment variables\n",
    "%use @file[resources/postgres.secret.json](currentDir=\".\")"
   ],
   "outputs": [],
   "execution_count": 19
  },
  {
   "metadata": {},
   "cell_type": "markdown",
   "source": "## Create Postgresql connection"
  },
  {
   "metadata": {
    "ExecuteTime": {
     "end_time": "2025-01-12T14:25:57.433408Z",
     "start_time": "2025-01-12T14:25:57.382880Z"
    }
   },
   "cell_type": "code",
   "source": [
    "import java.sql.DriverManager\n",
    "import java.sql.Connection\n",
    "import java.sql.PreparedStatement\n",
    "\n",
    "Class.forName(\"org.postgresql.Driver\")\n",
    "\n",
    "val conn = DriverManager.getConnection(uri, username, password)\n",
    "\n",
    "conn.prepareStatement(\"SELECT 1;\").execute()"
   ],
   "outputs": [
    {
     "data": {
      "text/plain": [
       "true"
      ]
     },
     "execution_count": 20,
     "metadata": {},
     "output_type": "execute_result"
    }
   ],
   "execution_count": 20
  },
  {
   "metadata": {},
   "cell_type": "markdown",
   "source": "## Create extension function to visualize SQL result using Dataframe"
  },
  {
   "metadata": {
    "ExecuteTime": {
     "end_time": "2025-01-12T14:25:57.590838Z",
     "start_time": "2025-01-12T14:25:57.490521Z"
    }
   },
   "cell_type": "code",
   "source": [
    "fun Connection.executeUpdate(sql: String, init: (PreparedStatement) -> Unit = {}): Int {\n",
    "    return prepareStatement(sql).use { statement ->\n",
    "        init(statement)\n",
    "        statement.executeUpdate()\n",
    "    }\n",
    "}\n",
    "\n",
    "// generically tranform ResultSet to DataFrame\n",
    "fun Connection.executeQueryToDf(sql: String, init: (PreparedStatement) -> Unit = {}): DataFrame {\n",
    "    return prepareStatement(sql).use { statement ->\n",
    "        init(statement)\n",
    "        val resultSet = statement.executeQuery()\n",
    "        val headers = mutableListOf<String>()\n",
    "        for(i in 1..resultSet.metaData.columnCount){\n",
    "            headers.add(resultSet.metaData.getColumnLabel(i))\n",
    "        }\n",
    "        val rows = mutableListOf<String>()\n",
    "        while(resultSet.next()) {\n",
    "            for(i in 1..resultSet.metaData.columnCount){\n",
    "                // TODO: preserve data type in DataFrame\n",
    "                rows.add(resultSet.getString(i))\n",
    "            }\n",
    "        }\n",
    "        dataFrameOf(*headers.toTypedArray())(*rows.toTypedArray())\n",
    "    }\n",
    "}\n",
    "\n",
    "conn.executeQueryToDf(\"SELECT 1 as HEALTHCHECK;\")"
   ],
   "outputs": [
    {
     "data": {
      "text/html": [
       "<html><body><table><tr><th style=\"text-align:left\">healthcheck</th></tr><tr><td style=\"text-align:left\" title=\"1\">1</td></tr></table><p>Shape: 1 x 1. \n",
       "</p></body></html>"
      ]
     },
     "execution_count": 21,
     "metadata": {},
     "output_type": "execute_result"
    }
   ],
   "execution_count": 21
  },
  {
   "metadata": {},
   "cell_type": "markdown",
   "source": "## Create User table"
  },
  {
   "metadata": {
    "ExecuteTime": {
     "end_time": "2025-01-12T14:25:57.623882Z",
     "start_time": "2025-01-12T14:25:57.599215Z"
    }
   },
   "cell_type": "code",
   "source": [
    "val sql = \"\"\"\n",
    "    CREATE TABLE IF NOT EXISTS users (\n",
    "        id SERIAL PRIMARY KEY,\n",
    "        name VARCHAR(100) NOT NULL,\n",
    "        email VARCHAR(100) NOT NULL\n",
    "    )\n",
    "\"\"\".trimIndent()\n",
    "\n",
    "conn.executeUpdate(sql)"
   ],
   "outputs": [
    {
     "data": {
      "text/plain": [
       "0"
      ]
     },
     "execution_count": 22,
     "metadata": {},
     "output_type": "execute_result"
    }
   ],
   "execution_count": 22
  },
  {
   "metadata": {},
   "cell_type": "markdown",
   "source": "## Insert data to User table"
  },
  {
   "metadata": {
    "ExecuteTime": {
     "end_time": "2025-01-12T14:25:57.661675Z",
     "start_time": "2025-01-12T14:25:57.625971Z"
    }
   },
   "cell_type": "code",
   "source": [
    "val sql = \"INSERT INTO users (name, email) VALUES (?, ?) RETURNING *\"\n",
    "\n",
    "conn.executeQueryToDf(sql) { statement ->\n",
    "    statement.setString(1, \"user4\")\n",
    "    statement.setString(2, \"user4@example.com\")\n",
    "}"
   ],
   "outputs": [
    {
     "data": {
      "text/html": [
       "<html><body><table><tr><th style=\"text-align:left\">id</th><th style=\"text-align:left\">name</th><th style=\"text-align:left\">email</th></tr><tr><td style=\"text-align:left\" title=\"7\">7</td><td style=\"text-align:left\" title=\"user4\">user4</td><td style=\"text-align:left\" title=\"user4@example.com\">user4@example.com</td></tr></table><p>Shape: 1 x 3. \n",
       "</p></body></html>"
      ]
     },
     "execution_count": 23,
     "metadata": {},
     "output_type": "execute_result"
    }
   ],
   "execution_count": 23
  },
  {
   "metadata": {},
   "cell_type": "markdown",
   "source": "## Select users"
  },
  {
   "metadata": {
    "ExecuteTime": {
     "end_time": "2025-01-12T14:25:57.684528Z",
     "start_time": "2025-01-12T14:25:57.664111Z"
    }
   },
   "cell_type": "code",
   "source": [
    "val sql = \"SELECT * from users\"\n",
    "\n",
    "conn.executeQueryToDf(sql)\n"
   ],
   "outputs": [
    {
     "data": {
      "text/html": [
       "<html><body><table><tr><th style=\"text-align:left\">id</th><th style=\"text-align:left\">name</th><th style=\"text-align:left\">email</th></tr><tr><td style=\"text-align:left\" title=\"1\">1</td><td style=\"text-align:left\" title=\"user4\">user4</td><td style=\"text-align:left\" title=\"user4@example.com\">user4@example.com</td></tr><tr><td style=\"text-align:left\" title=\"2\">2</td><td style=\"text-align:left\" title=\"user4\">user4</td><td style=\"text-align:left\" title=\"user4@example.com\">user4@example.com</td></tr><tr><td style=\"text-align:left\" title=\"3\">3</td><td style=\"text-align:left\" title=\"user4\">user4</td><td style=\"text-align:left\" title=\"user4@example.com\">user4@example.com</td></tr><tr><td style=\"text-align:left\" title=\"4\">4</td><td style=\"text-align:left\" title=\"user4\">user4</td><td style=\"text-align:left\" title=\"user4@example.com\">user4@example.com</td></tr><tr><td style=\"text-align:left\" title=\"5\">5</td><td style=\"text-align:left\" title=\"user4\">user4</td><td style=\"text-align:left\" title=\"user4@example.com\">user4@example.com</td></tr><tr><td style=\"text-align:left\" title=\"6\">6</td><td style=\"text-align:left\" title=\"user4\">user4</td><td style=\"text-align:left\" title=\"user4@example.com\">user4@example.com</td></tr><tr><td style=\"text-align:left\" title=\"7\">7</td><td style=\"text-align:left\" title=\"user4\">user4</td><td style=\"text-align:left\" title=\"user4@example.com\">user4@example.com</td></tr></table><p>Shape: 7 x 3. \n",
       "</p></body></html>"
      ]
     },
     "execution_count": 24,
     "metadata": {},
     "output_type": "execute_result"
    }
   ],
   "execution_count": 24
  }
 ],
 "metadata": {
  "kernelspec": {
   "display_name": "Kotlin",
   "language": "kotlin",
   "name": "kotlin"
  },
  "language_info": {
   "name": "kotlin",
   "version": "1.9.23",
   "mimetype": "text/x-kotlin",
   "file_extension": ".kt",
   "pygments_lexer": "kotlin",
   "codemirror_mode": "text/x-kotlin",
   "nbconvert_exporter": ""
  },
  "ktnbPluginMetadata": {
   "projectLibraries": false
  }
 },
 "nbformat": 4,
 "nbformat_minor": 0
}
