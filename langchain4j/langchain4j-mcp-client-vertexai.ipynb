{
 "cells": [
  {
   "cell_type": "code",
   "metadata": {
    "collapsed": true,
    "ExecuteTime": {
     "end_time": "2025-04-06T16:54:00.571554Z",
     "start_time": "2025-04-06T16:53:29.369218Z"
    }
   },
   "source": [
    "USE {\n",
    "    repositories {\n",
    "        mavenCentral()\n",
    "    }\n",
    "    dependencies {\n",
    "        implementation(\"dev.langchain4j:langchain4j:1.0.0-beta2\")\n",
    "        implementation(\"dev.langchain4j:langchain4j-mcp:1.0.0-beta2\")\n",
    "        implementation(\"dev.langchain4j:langchain4j-vertex-ai-gemini:1.0.0-beta2\")\n",
    "    }\n",
    "}\n",
    "// list the library, if the library is not exist, restart kernel\n",
    "notebook.currentClasspath.joinToString(\"\\n\")"
   ],
   "outputs": [
    {
     "data": {
      "text/plain": [
       "/Users/gaplo917/Library/Caches/JetBrains/IntelliJIdea2024.3/kotlinNotebook/kotlin-notebook-standalone.eb20de96/kernels/0.12.0-392/kotlin-jupyter-script-classpath-shadowed-zip_extracted/kotlin-stdlib-1.9.23.jar\n",
       "/Users/gaplo917/Library/Caches/JetBrains/IntelliJIdea2024.3/kotlinNotebook/kotlin-notebook-standalone.eb20de96/kernels/0.12.0-392/kotlin-jupyter-script-classpath-shadowed-zip_extracted/kotlin-reflect-1.9.23.jar\n",
       "/Users/gaplo917/Library/Caches/JetBrains/IntelliJIdea2024.3/kotlinNotebook/kotlin-notebook-standalone.eb20de96/kernels/0.12.0-392/kotlin-jupyter-script-classpath-shadowed-zip_extracted/kotlinx-serialization-core-jvm-1.6.3.jar\n",
       "/Users/gaplo917/Library/Caches/JetBrains/IntelliJIdea2024.3/kotlinNotebook/kotlin-notebook-standalone.eb20de96/kernels/0.12.0-392/kotlin-jupyter-script-classpath-shadowed-zip_extracted/annotations-13.0.jar\n",
       "/Users/gaplo917/Library/Caches/JetBrains/IntelliJIdea2024.3/kotlinNotebook/kotlin-notebook-standalone.eb20de96/kernels/0.12.0-392/kotlin-jupyter-script-classpath-shadowed-zip_extracted/api-0.12.0-392.jar\n",
       "/Users/gaplo917/Library/Caches/JetBrains/IntelliJIdea2024.3/kotlinNotebook/kotlin-notebook-standalone.eb20de96/kernels/0.12.0-392/kotlin-jupyter-script-classpath-shadowed-zip_extracted/slf4j-api-2.0.12.jar\n",
       "/Users/gaplo917/Library/Caches/JetBrains/IntelliJIdea2024.3/kotlinNotebook/kotlin-notebook-standalone.eb20de96/kernels/0.12.0-392/kotlin-jupyter-script-classpath-shadowed-zip_extracted/lib-0.12.0-392.jar\n",
       "/Users/gaplo917/Library/Caches/JetBrains/IntelliJIdea2024.3/kotlinNotebook/kotlin-notebook-standalone.eb20de96/kernels/0.12.0-392/kotlin-jupyter-script-classpath-shadowed-zip_extracted/kotlinx-serialization-json-jvm-1.6.3.jar\n",
       "/Users/gaplo917/Library/Caches/JetBrains/IntelliJIdea2024.3/kotlinNotebook/kotlin-notebook-standalone.eb20de96/kernels/0.12.0-392/kotlin-jupyter-script-classpath-shadowed-zip_extracted/kotlin-script-runtime-1.9.23.jar\n",
       "/Users/gaplo917/.m2/repository/dev/langchain4j/langchain4j-mcp/1.0.0-beta2/langchain4j-mcp-1.0.0-beta2.jar\n",
       "/Users/gaplo917/.m2/repository/com/fasterxml/jackson/core/jackson-databind/2.18.2/jackson-databind-2.18.2.jar\n",
       "/Users/gaplo917/.m2/repository/com/fasterxml/jackson/core/jackson-annotations/2.18.2/jackson-annotations-2.18.2.jar\n",
       "/Users/gaplo917/.m2/repository/com/fasterxml/jackson/core/jackson-core/2.18.2/jackson-core-2.18.2.jar\n",
       "/Users/gaplo917/.m2/repository/com/squareup/okhttp3/okhttp/4.12.0/okhttp-4.12.0.jar\n",
       "/Users/gaplo917/.m2/repository/com/squareup/okio/okio/3.6.0/okio-3.6.0.jar\n",
       "/Users/gaplo917/.m2/repository/com/squareup/okio/okio-jvm/3.6.0/okio-jvm-3.6.0.jar\n",
       "/Users/gaplo917/.m2/repository/org/jetbrains/kotlin/kotlin-stdlib-common/1.9.10/kotlin-stdlib-common-1.9.10.jar\n",
       "/Users/gaplo917/.m2/repository/org/jetbrains/kotlin/kotlin-stdlib-jdk8/1.8.21/kotlin-stdlib-jdk8-1.8.21.jar\n",
       "/Users/gaplo917/.m2/repository/org/jetbrains/kotlin/kotlin-stdlib/1.8.21/kotlin-stdlib-1.8.21.jar\n",
       "/Users/gaplo917/.m2/repository/org/jetbrains/annotations/13.0/annotations-13.0.jar\n",
       "/Users/gaplo917/.m2/repository/org/jetbrains/kotlin/kotlin-stdlib-jdk7/1.8.21/kotlin-stdlib-jdk7-1.8.21.jar\n",
       "/Users/gaplo917/.m2/repository/com/squareup/okhttp3/okhttp-sse/4.12.0/okhttp-sse-4.12.0.jar\n",
       "/Users/gaplo917/.m2/repository/dev/langchain4j/langchain4j-vertex-ai-gemini/1.0.0-beta2/langchain4j-vertex-ai-gemini-1.0.0-beta2.jar\n",
       "/Users/gaplo917/.m2/repository/dev/langchain4j/langchain4j-core/1.0.0-beta2/langchain4j-core-1.0.0-beta2.jar\n",
       "/Users/gaplo917/.m2/repository/org/jspecify/jspecify/1.0.0/jspecify-1.0.0.jar\n",
       "/Users/gaplo917/.m2/repository/com/google/cloud/google-cloud-vertexai/1.9.0/google-cloud-vertexai-1.9.0.jar\n",
       "/Users/gaplo917/.m2/repository/io/grpc/grpc-api/1.66.0/grpc-api-1.66.0.jar\n",
       "/Users/gaplo917/.m2/repository/com/google/code/findbugs/jsr305/3.0.2/jsr305-3.0.2.jar\n",
       "/Users/gaplo917/.m2/repository/com/google/errorprone/error_prone_annotations/2.31.0/error_prone_annotations-2.31.0.jar\n",
       "/Users/gaplo917/.m2/repository/io/grpc/grpc-stub/1.66.0/grpc-stub-1.66.0.jar\n",
       "/Users/gaplo917/.m2/repository/io/grpc/grpc-protobuf/1.66.0/grpc-protobuf-1.66.0.jar\n",
       "/Users/gaplo917/.m2/repository/io/grpc/grpc-protobuf-lite/1.66.0/grpc-protobuf-lite-1.66.0.jar\n",
       "/Users/gaplo917/.m2/repository/com/google/api/api-common/2.36.0/api-common-2.36.0.jar\n",
       "/Users/gaplo917/.m2/repository/com/google/auto/value/auto-value-annotations/1.11.0/auto-value-annotations-1.11.0.jar\n",
       "/Users/gaplo917/.m2/repository/javax/annotation/javax.annotation-api/1.3.2/javax.annotation-api-1.3.2.jar\n",
       "/Users/gaplo917/.m2/repository/com/google/j2objc/j2objc-annotations/3.0.0/j2objc-annotations-3.0.0.jar\n",
       "/Users/gaplo917/.m2/repository/com/google/protobuf/protobuf-java/3.25.4/protobuf-java-3.25.4.jar\n",
       "/Users/gaplo917/.m2/repository/com/google/api/grpc/proto-google-common-protos/2.44.0/proto-google-common-protos-2.44.0.jar\n",
       "/Users/gaplo917/.m2/repository/com/google/api/grpc/proto-google-cloud-vertexai-v1/1.9.0/proto-google-cloud-vertexai-v1-1.9.0.jar\n",
       "/Users/gaplo917/.m2/repository/com/google/guava/guava/33.3.0-jre/guava-33.3.0-jre.jar\n",
       "/Users/gaplo917/.m2/repository/com/google/guava/failureaccess/1.0.2/failureaccess-1.0.2.jar\n",
       "/Users/gaplo917/.m2/repository/com/google/guava/listenablefuture/9999.0-empty-to-avoid-conflict-with-guava/listenablefuture-9999.0-empty-to-avoid-conflict-with-guava.jar\n",
       "/Users/gaplo917/.m2/repository/org/checkerframework/checker-qual/3.47.0/checker-qual-3.47.0.jar\n",
       "/Users/gaplo917/.m2/repository/com/google/api/gax/2.53.0/gax-2.53.0.jar\n",
       "/Users/gaplo917/.m2/repository/com/google/auth/google-auth-library-credentials/1.25.0/google-auth-library-credentials-1.25.0.jar\n",
       "/Users/gaplo917/.m2/repository/io/opencensus/opencensus-api/0.31.1/opencensus-api-0.31.1.jar\n",
       "/Users/gaplo917/.m2/repository/io/grpc/grpc-context/1.66.0/grpc-context-1.66.0.jar\n",
       "/Users/gaplo917/.m2/repository/com/google/auth/google-auth-library-oauth2-http/1.25.0/google-auth-library-oauth2-http-1.25.0.jar\n",
       "/Users/gaplo917/.m2/repository/com/google/api/gax-grpc/2.53.0/gax-grpc-2.53.0.jar\n",
       "/Users/gaplo917/.m2/repository/io/grpc/grpc-inprocess/1.66.0/grpc-inprocess-1.66.0.jar\n",
       "/Users/gaplo917/.m2/repository/io/grpc/grpc-core/1.66.0/grpc-core-1.66.0.jar\n",
       "/Users/gaplo917/.m2/repository/com/google/android/annotations/4.1.1.4/annotations-4.1.1.4.jar\n",
       "/Users/gaplo917/.m2/repository/org/codehaus/mojo/animal-sniffer-annotations/1.24/animal-sniffer-annotations-1.24.jar\n",
       "/Users/gaplo917/.m2/repository/io/grpc/grpc-alts/1.66.0/grpc-alts-1.66.0.jar\n",
       "/Users/gaplo917/.m2/repository/io/grpc/grpc-grpclb/1.66.0/grpc-grpclb-1.66.0.jar\n",
       "/Users/gaplo917/.m2/repository/org/conscrypt/conscrypt-openjdk-uber/2.5.2/conscrypt-openjdk-uber-2.5.2.jar\n",
       "/Users/gaplo917/.m2/repository/io/grpc/grpc-auth/1.66.0/grpc-auth-1.66.0.jar\n",
       "/Users/gaplo917/.m2/repository/io/grpc/grpc-netty-shaded/1.66.0/grpc-netty-shaded-1.66.0.jar\n",
       "/Users/gaplo917/.m2/repository/io/grpc/grpc-util/1.66.0/grpc-util-1.66.0.jar\n",
       "/Users/gaplo917/.m2/repository/io/perfmark/perfmark-api/0.27.0/perfmark-api-0.27.0.jar\n",
       "/Users/gaplo917/.m2/repository/io/grpc/grpc-googleapis/1.66.0/grpc-googleapis-1.66.0.jar\n",
       "/Users/gaplo917/.m2/repository/io/grpc/grpc-xds/1.66.0/grpc-xds-1.66.0.jar\n",
       "/Users/gaplo917/.m2/repository/io/grpc/grpc-services/1.66.0/grpc-services-1.66.0.jar\n",
       "/Users/gaplo917/.m2/repository/com/google/re2j/re2j/1.7/re2j-1.7.jar\n",
       "/Users/gaplo917/.m2/repository/com/google/api/gax-httpjson/2.53.0/gax-httpjson-2.53.0.jar\n",
       "/Users/gaplo917/.m2/repository/com/google/code/gson/gson/2.11.0/gson-2.11.0.jar\n",
       "/Users/gaplo917/.m2/repository/com/google/http-client/google-http-client/1.45.0/google-http-client-1.45.0.jar\n",
       "/Users/gaplo917/.m2/repository/org/apache/httpcomponents/httpclient/4.5.14/httpclient-4.5.14.jar\n",
       "/Users/gaplo917/.m2/repository/commons-codec/commons-codec/1.17.1/commons-codec-1.17.1.jar\n",
       "/Users/gaplo917/.m2/repository/org/apache/httpcomponents/httpcore/4.4.16/httpcore-4.4.16.jar\n",
       "/Users/gaplo917/.m2/repository/io/opencensus/opencensus-contrib-http-util/0.31.1/opencensus-contrib-http-util-0.31.1.jar\n",
       "/Users/gaplo917/.m2/repository/com/google/http-client/google-http-client-gson/1.45.0/google-http-client-gson-1.45.0.jar\n",
       "/Users/gaplo917/.m2/repository/com/google/protobuf/protobuf-java-util/3.25.4/protobuf-java-util-3.25.4.jar\n",
       "/Users/gaplo917/.m2/repository/com/google/api/grpc/grpc-google-common-protos/2.44.0/grpc-google-common-protos-2.44.0.jar\n",
       "/Users/gaplo917/.m2/repository/com/google/api/grpc/proto-google-iam-v1/1.39.0/proto-google-iam-v1-1.39.0.jar\n",
       "/Users/gaplo917/.m2/repository/com/google/api/grpc/grpc-google-iam-v1/1.39.0/grpc-google-iam-v1-1.39.0.jar\n",
       "/Users/gaplo917/.m2/repository/org/threeten/threetenbp/1.6.9/threetenbp-1.6.9.jar\n",
       "/Users/gaplo917/.m2/repository/dev/langchain4j/langchain4j/1.0.0-beta2/langchain4j-1.0.0-beta2.jar\n",
       "/Users/gaplo917/.m2/repository/org/apache/opennlp/opennlp-tools/1.9.4/opennlp-tools-1.9.4.jar\n",
       "/Users/gaplo917/.m2/repository/org/slf4j/slf4j-simple/2.0.13/slf4j-simple-2.0.13.jar\n",
       "/Users/gaplo917/.m2/repository/org/slf4j/slf4j-api/2.0.13/slf4j-api-2.0.13.jar\n",
       "/Users/gaplo917/.m2/repository/org/jetbrains/kotlin/kotlin-stdlib-jdk8/1.9.10/kotlin-stdlib-jdk8-1.9.10.jar\n",
       "/Users/gaplo917/.m2/repository/org/jetbrains/kotlin/kotlin-stdlib/1.9.10/kotlin-stdlib-1.9.10.jar\n",
       "/Users/gaplo917/.m2/repository/org/jetbrains/kotlin/kotlin-stdlib-jdk7/1.9.10/kotlin-stdlib-jdk7-1.9.10.jar"
      ]
     },
     "execution_count": 19,
     "metadata": {},
     "output_type": "execute_result"
    }
   ],
   "execution_count": 19
  },
  {
   "metadata": {
    "ExecuteTime": {
     "end_time": "2025-04-06T16:14:01.942840Z",
     "start_time": "2025-04-06T16:14:01.912193Z"
    }
   },
   "cell_type": "code",
   "source": [
    "val projectId = System.getenv(\"GOOGLE_CLOUD_PROJECT\") ?: \"gaplotech\" // Replace with your actual project ID\n",
    "val location = System.getenv(\"GOOGLE_CLOUD_REGION\") ?: \"us-central1\"\n",
    "\n",
    "print(projectId to location)"
   ],
   "outputs": [
    {
     "name": "stdout",
     "output_type": "stream",
     "text": [
      "(gaplotech, us-central1)"
     ]
    }
   ],
   "execution_count": 15
  },
  {
   "metadata": {
    "ExecuteTime": {
     "end_time": "2025-04-06T16:16:31.761171Z",
     "start_time": "2025-04-06T16:16:31.743232Z"
    }
   },
   "cell_type": "code",
   "source": [
    "// Define the model to use\n",
    "val modelName = \"gemini-2.0-flash-exp\"\n"
   ],
   "outputs": [],
   "execution_count": 18
  },
  {
   "metadata": {
    "ExecuteTime": {
     "end_time": "2025-04-06T16:14:56.820333Z",
     "start_time": "2025-04-06T16:14:54.933856Z"
    }
   },
   "cell_type": "code",
   "source": [
    "import dev.langchain4j.mcp.McpToolProvider\n",
    "import dev.langchain4j.mcp.client.DefaultMcpClient\n",
    "import dev.langchain4j.mcp.client.McpClient\n",
    "import dev.langchain4j.mcp.client.transport.http.HttpMcpTransport\n",
    "import dev.langchain4j.model.vertexai.VertexAiGeminiChatModel\n",
    "import dev.langchain4j.service.AiServices\n",
    "import dev.langchain4j.service.SystemMessage\n",
    "import dev.langchain4j.service.UserMessage\n",
    "import dev.langchain4j.service.V\n",
    "\n",
    "interface Supervisor {\n",
    "    @SystemMessage(\"You are a helpful ai assistant with a list of tools. Use avaliable tools automatically as parallel as possible.\")\n",
    "    @UserMessage(\"{{message}}\")\n",
    "    fun chat(@V(\"message\") userMessage: String): String\n",
    "}\n",
    "\n",
    "val transport = HttpMcpTransport.Builder()\n",
    "    .sseUrl(\"http://localhost:3001/sse\")\n",
    "    .build()\n",
    "\n",
    "val mcpClient: McpClient = DefaultMcpClient.Builder()\n",
    "    .transport(transport)\n",
    "    .build()\n",
    "\n",
    "val toolProvider = McpToolProvider.builder()\n",
    "    .mcpClients(listOf(mcpClient))\n",
    "    .build();\n",
    "\n",
    "val model = VertexAiGeminiChatModel.builder()\n",
    "    .project(projectId)\n",
    "    .location(location)\n",
    "    .modelName(modelName)\n",
    "    .build()\n",
    "\n",
    "val bot = AiServices.builder(Supervisor::class.java)\n",
    "    .chatLanguageModel(model)\n",
    "    .toolProvider(toolProvider)\n",
    "    .build()\n",
    "\n",
    "print(bot.chat(\"get bitcoin print today. use avaliable tool automatically\"))"
   ],
   "outputs": [
    {
     "name": "stdout",
     "output_type": "stream",
     "text": [
      "The current price of Bitcoin is $82434.43.\n"
     ]
    }
   ],
   "execution_count": 17
  },
  {
   "metadata": {},
   "cell_type": "code",
   "outputs": [],
   "execution_count": null,
   "source": ""
  }
 ],
 "metadata": {
  "kernelspec": {
   "display_name": "Kotlin",
   "language": "kotlin",
   "name": "kotlin"
  },
  "language_info": {
   "name": "kotlin",
   "version": "1.9.23",
   "mimetype": "text/x-kotlin",
   "file_extension": ".kt",
   "pygments_lexer": "kotlin",
   "codemirror_mode": "text/x-kotlin",
   "nbconvert_exporter": ""
  },
  "ktnbPluginMetadata": {
   "projectLibraries": false
  }
 },
 "nbformat": 4,
 "nbformat_minor": 0
}
